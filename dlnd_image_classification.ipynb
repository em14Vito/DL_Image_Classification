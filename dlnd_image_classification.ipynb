{
 "cells": [
  {
   "cell_type": "markdown",
   "metadata": {
    "collapsed": true
   },
   "source": [
    "# Image Classification\n",
    "In this project, you'll classify images from the [CIFAR-10 dataset](https://www.cs.toronto.edu/~kriz/cifar.html).  The dataset consists of airplanes, dogs, cats, and other objects. You'll preprocess the images, then train a convolutional neural network on all the samples. The images need to be normalized and the labels need to be one-hot encoded.  You'll get to apply what you learned and build a convolutional, max pooling, dropout, and fully connected layers.  At the end, you'll get to see your neural network's predictions on the sample images.\n",
    "## Get the Data\n",
    "Run the following cell to download the [CIFAR-10 dataset for python](https://www.cs.toronto.edu/~kriz/cifar-10-python.tar.gz)."
   ]
  },
  {
   "cell_type": "code",
   "execution_count": 2,
   "metadata": {
    "collapsed": false
   },
   "outputs": [
    {
     "name": "stdout",
     "output_type": "stream",
     "text": [
      "All files found!\n"
     ]
    }
   ],
   "source": [
    "\"\"\"\n",
    "DON'T MODIFY ANYTHING IN THIS CELL THAT IS BELOW THIS LINE\n",
    "\"\"\"\n",
    "from urllib.request import urlretrieve\n",
    "from os.path import isfile, isdir\n",
    "from tqdm import tqdm\n",
    "import problem_unittests as tests\n",
    "import tarfile\n",
    "\n",
    "cifar10_dataset_folder_path = 'cifar-10-batches-py'\n",
    "\n",
    "class DLProgress(tqdm):\n",
    "    last_block = 0\n",
    "\n",
    "    def hook(self, block_num=1, block_size=1, total_size=None):\n",
    "        self.total = total_size\n",
    "        self.update((block_num - self.last_block) * block_size)\n",
    "        self.last_block = block_num\n",
    "\n",
    "if not isfile('cifar-10-python.tar.gz'):\n",
    "    with DLProgress(unit='B', unit_scale=True, miniters=1, desc='CIFAR-10 Dataset') as pbar:\n",
    "        urlretrieve(\n",
    "            'https://www.cs.toronto.edu/~kriz/cifar-10-python.tar.gz',\n",
    "            'cifar-10-python.tar.gz',\n",
    "            pbar.hook)\n",
    "\n",
    "if not isdir(cifar10_dataset_folder_path):\n",
    "    with tarfile.open('cifar-10-python.tar.gz') as tar:\n",
    "        tar.extractall()\n",
    "        tar.close()\n",
    "\n",
    "\n",
    "tests.test_folder_path(cifar10_dataset_folder_path)"
   ]
  },
  {
   "cell_type": "markdown",
   "metadata": {},
   "source": [
    "## Explore the Data\n",
    "The dataset is broken into batches to prevent your machine from running out of memory.  The CIFAR-10 dataset consists of 5 batches, named `data_batch_1`, `data_batch_2`, etc.. Each batch contains the labels and images that are one of the following:\n",
    "* airplane\n",
    "* automobile\n",
    "* bird\n",
    "* cat\n",
    "* deer\n",
    "* dog\n",
    "* frog\n",
    "* horse\n",
    "* ship\n",
    "* truck\n",
    "\n",
    "Understanding a dataset is part of making predictions on the data.  Play around with the code cell below by changing the `batch_id` and `sample_id`. The `batch_id` is the id for a batch (1-5). The `sample_id` is the id for a image and label pair in the batch.\n",
    "\n",
    "Ask yourself \"What are all possible labels?\", \"What is the range of values for the image data?\", \"Are the labels in order or random?\".  Answers to questions like these will help you preprocess the data and end up with better predictions."
   ]
  },
  {
   "cell_type": "code",
   "execution_count": 3,
   "metadata": {
    "collapsed": false
   },
   "outputs": [
    {
     "name": "stdout",
     "output_type": "stream",
     "text": [
      "\n",
      "Stats of batch 4:\n",
      "Samples: 10000\n",
      "Label Counts: {0: 1003, 1: 963, 2: 1041, 3: 976, 4: 1004, 5: 1021, 6: 1004, 7: 981, 8: 1024, 9: 983}\n",
      "First 20 Labels: [0, 6, 0, 2, 7, 2, 1, 2, 4, 1, 5, 6, 6, 3, 1, 3, 5, 5, 8, 1]\n",
      "\n",
      "Example of Image 2:\n",
      "Image - Min Value: 2 Max Value: 204\n",
      "Image - Shape: (32, 32, 3)\n",
      "Label - Label Id: 0 Name: airplane\n"
     ]
    },
    {
     "data": {
      "image/png": "[encoded data removed]",
      "text/plain": [
       "<matplotlib.figure.Figure at 0x7fd71101ecc0>"
      ]
     },
     "metadata": {
      "image/png": {
       "height": 250,
       "width": 253
      }
     },
     "output_type": "display_data"
    }
   ],
   "source": [
    "%matplotlib inline\n",
    "%config InlineBackend.figure_format = 'retina'\n",
    "\n",
    "import helper\n",
    "import numpy as np\n",
    "\n",
    "# Explore the dataset\n",
    "batch_id = 4\n",
    "sample_id = 2\n",
    "helper.display_stats(cifar10_dataset_folder_path, batch_id, sample_id)"
   ]
  },
  {
   "cell_type": "markdown",
   "metadata": {},
   "source": [
    "## Implement Preprocess Functions\n",
    "### Normalize\n",
    "In the cell below, implement the `normalize` function to take in image data, `x`, and return it as a normalized Numpy array. The values should be in the range of 0 to 1, inclusive.  The return object should be the same shape as `x`."
   ]
  },
  {
   "cell_type": "code",
   "execution_count": 4,
   "metadata": {
    "collapsed": false
   },
   "outputs": [
    {
     "name": "stdout",
     "output_type": "stream",
     "text": [
      "Tests Passed\n"
     ]
    }
   ],
   "source": [
    "def normalize(x):\n",
    "    \"\"\"\n",
    "    Normalize a list of sample image data in the range of 0 to 1\n",
    "    : x: List of image data.  The image shape is (32, 32, 3)\n",
    "    : return: Numpy array of normalize data\n",
    "    \"\"\"\n",
    "    # TODO: Impement Function\n",
    "     \n",
    "    x = np.array(x)\n",
    "    x_min = x.min()\n",
    "    x_max = x.max()    \n",
    "    x = (x - x_min) / (x_max - x_min)\n",
    "\n",
    "    return x\n",
    "   \n",
    "\n",
    "\n",
    "\"\"\"\n",
    "DON'T MODIFY ANYTHING IN THIS CELL THAT IS BELOW THIS LINE\n",
    "\"\"\"\n",
    "tests.test_normalize(normalize)"
   ]
  },
  {
   "cell_type": "markdown",
   "metadata": {},
   "source": [
    "### One-hot encode\n",
    "Just like the previous code cell, you'll be implementing a function for preprocessing.  This time, you'll implement the `one_hot_encode` function. The input, `x`, are a list of labels.  Implement the function to return the list of labels as One-Hot encoded Numpy array.  The possible values for labels are 0 to 9. The one-hot encoding function should return the same encoding for each value between each call to `one_hot_encode`.  Make sure to save the map of encodings outside the function.\n",
    "\n",
    "Hint: Don't reinvent the wheel."
   ]
  },
  {
   "cell_type": "code",
   "execution_count": 5,
   "metadata": {
    "collapsed": false
   },
   "outputs": [
    {
     "name": "stdout",
     "output_type": "stream",
     "text": [
      "Tests Passed\n"
     ]
    }
   ],
   "source": [
    "\n",
    "def one_hot_encode(x):\n",
    "    \"\"\"\n",
    "    One hot encode a list of sample labels. Return a one-hot encoded vector for each label.\n",
    "    : x: List of sample Labels\n",
    "    : return: Numpy array of one-hot encoded labels\n",
    "    \"\"\"\n",
    "    # TODO: Implement Function\n",
    "    \n",
    "    #eye(5)[0,1,2,3,4]这个解释，相乘是怎么做到的？\n",
    "  \n",
    " #     sample = [0,1,2,3,4]\n",
    "#     print(\"Before\")\n",
    "#     print(sample)\n",
    "#     print(\"After\")\n",
    "#     print(np.eye(5)[sample])\n",
    "    ans = np.eye(10)[x]\n",
    "    return ans\n",
    "\n",
    "\n",
    "\"\"\"\n",
    "DON'T MODIFY ANYTHING IN THIS CELL THAT IS BELOW THIS LINE\n",
    "\"\"\"\n",
    "\n",
    "tests.test_one_hot_encode(one_hot_encode)"
   ]
  },
  {
   "cell_type": "markdown",
   "metadata": {},
   "source": [
    "### Randomize Data\n",
    "As you saw from exploring the data above, the order of the samples are randomized.  It doesn't hurt to randomize it again, but you don't need to for this dataset."
   ]
  },
  {
   "cell_type": "markdown",
   "metadata": {},
   "source": [
    "## Preprocess all the data and save it\n",
    "Running the code cell below will preprocess all the CIFAR-10 data and save it to file. The code below also uses 10% of the training data for validation."
   ]
  },
  {
   "cell_type": "code",
   "execution_count": 6,
   "metadata": {
    "collapsed": false
   },
   "outputs": [],
   "source": [
    "\"\"\"\n",
    "DON'T MODIFY ANYTHING IN THIS CELL\n",
    "\"\"\"\n",
    "# Preprocess Training, Validation, and Testing Data\n",
    "helper.preprocess_and_save_data(cifar10_dataset_folder_path, normalize, one_hot_encode)"
   ]
  },
  {
   "cell_type": "markdown",
   "metadata": {},
   "source": [
    "# Check Point\n",
    "This is your first checkpoint.  If you ever decide to come back to this notebook or have to restart the notebook, you can start from here.  The preprocessed data has been saved to disk."
   ]
  },
  {
   "cell_type": "code",
   "execution_count": 7,
   "metadata": {
    "collapsed": true
   },
   "outputs": [],
   "source": [
    "\"\"\"\n",
    "DON'T MODIFY ANYTHING IN THIS CELL\n",
    "\"\"\"\n",
    "import pickle\n",
    "import problem_unittests as tests\n",
    "import helper\n",
    "\n",
    "# Load the Preprocessed Validation data\n",
    "valid_features, valid_labels = pickle.load(open('preprocess_validation.p', mode='rb'))"
   ]
  },
  {
   "cell_type": "markdown",
   "metadata": {},
   "source": [
    "## Build the network\n",
    "For the neural network, you'll build each layer into a function.  Most of the code you've seen has been outside of functions. To test your code more thoroughly, we require that you put each layer in a function.  This allows us to give you better feedback and test for simple mistakes using our unittests before you submit your project.\n",
    "\n",
    ">**Note:** If you're finding it hard to dedicate enough time for this course each week, we've provided a small shortcut to this part of the project. In the next couple of problems, you'll have the option to use classes from the [TensorFlow Layers](https://www.tensorflow.org/api_docs/python/tf/layers) or [TensorFlow Layers (contrib)](https://www.tensorflow.org/api_guides/python/contrib.layers) packages to build each layer, except the layers you build in the \"Convolutional and Max Pooling Layer\" section.  TF Layers is similar to Keras's and TFLearn's abstraction to layers, so it's easy to pickup.\n",
    "\n",
    ">However, if you would like to get the most out of this course, try to solve all the problems _without_ using anything from the TF Layers packages. You **can** still use classes from other packages that happen to have the same name as ones you find in TF Layers! For example, instead of using the TF Layers version of the `conv2d` class, [tf.layers.conv2d](https://www.tensorflow.org/api_docs/python/tf/layers/conv2d), you would want to use the TF Neural Network version of `conv2d`, [tf.nn.conv2d](https://www.tensorflow.org/api_docs/python/tf/nn/conv2d). \n",
    "\n",
    "Let's begin!\n",
    "\n",
    "### Input\n",
    "The neural network needs to read the image data, one-hot encoded labels, and dropout keep probability. Implement the following functions\n",
    "* Implement `neural_net_image_input`\n",
    " * Return a [TF Placeholder](https://www.tensorflow.org/api_docs/python/tf/placeholder)\n",
    " * Set the shape using `image_shape` with batch size set to `None`.\n",
    " * Name the TensorFlow placeholder \"x\" using the TensorFlow `name` parameter in the [TF Placeholder](https://www.tensorflow.org/api_docs/python/tf/placeholder).\n",
    "* Implement `neural_net_label_input`\n",
    " * Return a [TF Placeholder](https://www.tensorflow.org/api_docs/python/tf/placeholder)\n",
    " * Set the shape using `n_classes` with batch size set to `None`.\n",
    " * Name the TensorFlow placeholder \"y\" using the TensorFlow `name` parameter in the [TF Placeholder](https://www.tensorflow.org/api_docs/python/tf/placeholder).\n",
    "* Implement `neural_net_keep_prob_input`\n",
    " * Return a [TF Placeholder](https://www.tensorflow.org/api_docs/python/tf/placeholder) for dropout keep probability.\n",
    " * Name the TensorFlow placeholder \"keep_prob\" using the TensorFlow `name` parameter in the [TF Placeholder](https://www.tensorflow.org/api_docs/python/tf/placeholder).\n",
    "\n",
    "These names will be used at the end of the project to load your saved model.\n",
    "\n",
    "Note: `None` for shapes in TensorFlow allow for a dynamic size."
   ]
  },
  {
   "cell_type": "code",
   "execution_count": 8,
   "metadata": {
    "collapsed": false
   },
   "outputs": [
    {
     "name": "stdout",
     "output_type": "stream",
     "text": [
      "Image Input Tests Passed.\n",
      "Label Input Tests Passed.\n",
      "Keep Prob Tests Passed.\n"
     ]
    }
   ],
   "source": [
    "import tensorflow as tf\n",
    "\n",
    "def neural_net_image_input(image_shape):\n",
    "    \"\"\"\n",
    "    Return a Tensor for a bach of image input\n",
    "    : image_shape: Shape of the images\n",
    "    : return: Tensor for image input.\n",
    "    \"\"\"\n",
    "    # TODO: Implement Function\n",
    "    new_shape = [None,image_shape[0],image_shape[1],image_shape[2]]   \n",
    "    x = tf.placeholder(tf.float32, shape= new_shape,name = \"x\")    \n",
    "    return x\n",
    "\n",
    "\n",
    "def neural_net_label_input(n_classes):\n",
    "    \"\"\"\n",
    "    Return a Tensor for a batch of label input\n",
    "    : n_classes: Number of classes\n",
    "    : return: Tensor for label input.\n",
    "    \"\"\"\n",
    "    # TODO: Implement Function  \n",
    "    new_shape = [None,n_classes]   \n",
    "    x = tf.placeholder(tf.float32, shape= new_shape,name =\"y\")    \n",
    "    return x\n",
    "\n",
    "\n",
    "def neural_net_keep_prob_input():\n",
    "    \"\"\"\n",
    "    Return a Tensor for keep probability\n",
    "    : return: Tensor for keep probability.\n",
    "    \"\"\"\n",
    "    # TODO: Implement Function\n",
    "    return tf.placeholder(tf.float32,name=\"keep_prob\")\n",
    "\n",
    "\n",
    "\"\"\"\n",
    "DON'T MODIFY ANYTHING IN THIS CELL THAT IS BELOW THIS LINE\n",
    "\"\"\"\n",
    "tf.reset_default_graph()\n",
    "tests.test_nn_image_inputs(neural_net_image_input)\n",
    "tests.test_nn_label_inputs(neural_net_label_input)\n",
    "tests.test_nn_keep_prob_inputs(neural_net_keep_prob_input)"
   ]
  },
  {
   "cell_type": "markdown",
   "metadata": {},
   "source": [
    "### Convolution and Max Pooling Layer\n",
    "Convolution layers have a lot of success with images. For this code cell, you should implement the function `conv2d_maxpool` to apply convolution then max pooling:\n",
    "* Create the weight and bias using `conv_ksize`, `conv_num_outputs` and the shape of `x_tensor`.\n",
    "* Apply a convolution to `x_tensor` using weight and `conv_strides`.\n",
    " * We recommend you use same padding, but you're welcome to use any padding.\n",
    "* Add bias\n",
    "* Add a nonlinear activation to the convolution.\n",
    "* Apply Max Pooling using `pool_ksize` and `pool_strides`.\n",
    " * We recommend you use same padding, but you're welcome to use any padding.\n",
    "\n",
    "**Note:** You **can't** use [TensorFlow Layers](https://www.tensorflow.org/api_docs/python/tf/layers) or [TensorFlow Layers (contrib)](https://www.tensorflow.org/api_guides/python/contrib.layers) for **this** layer, but you can still use TensorFlow's [Neural Network](https://www.tensorflow.org/api_docs/python/tf/nn) package. You may still use the shortcut option for all the **other** layers."
   ]
  },
  {
   "cell_type": "code",
   "execution_count": 12,
   "metadata": {
    "collapsed": false
   },
   "outputs": [
    {
     "name": "stdout",
     "output_type": "stream",
     "text": [
      "Tests Passed\n"
     ]
    }
   ],
   "source": [
    "def conv2d_maxpool(x_tensor, conv_num_outputs, conv_ksize, conv_strides, pool_ksize, pool_strides):\n",
    "    \"\"\"\n",
    "    Apply convolution then max pooling to x_tensor\n",
    "    :param x_tensor: TensorFlow Tensor\n",
    "    :param conv_num_outputs: Number of outputs for the convolutional layer\n",
    "    :param conv_ksize: kernal size 2-D Tuple for the convolutional layer\n",
    "    :param conv_strides: Stride 2-D Tuple for convolution\n",
    "    :param pool_ksize: kernal size 2-D Tuple for pool\n",
    "    :param pool_strides: Stride 2-D Tuple for pool\n",
    "    : return: A tensor that represents convolution and max pooling of x_tensor\n",
    "    \"\"\"\n",
    "    #x_tensor.shape.as_list()[3]不懂\n",
    "    weight = tf.Variable( tf.truncated_normal((conv_ksize[0],conv_ksize[1],\n",
    "                                               x_tensor.shape.as_list()[3],conv_num_outputs,),stddev=0.05,  dtype=tf.float32))\n",
    "           \n",
    "    conv = tf.nn.conv2d(x_tensor,weight,strides=[1,conv_strides[0],conv_strides[1],1], padding='SAME')\n",
    "    \n",
    "    bias = tf.Variable(tf.zeros(conv_num_outputs))\n",
    "    \n",
    "    conv = tf.nn.bias_add(conv,bias)\n",
    "    \n",
    "    conv = tf.nn.relu(conv)\n",
    "    \n",
    "    output = tf.nn.max_pool( conv,\n",
    "                           ksize =[1, pool_ksize[0], pool_ksize[1], 1] ,\n",
    "                           strides=[1,pool_strides[0],pool_strides[1],1],\n",
    "                           padding='SAME')\n",
    "    \n",
    "    return output\n",
    "    \n",
    "#     Add a nonlinear activation to the convolution.\n",
    "#     Apply Max Pooling using pool_ksize and pool_strides.\n",
    "#     We recommend you use same padding, but you're welcome to use any padding.\n",
    "    \n",
    "\n",
    "\"\"\"\n",
    "DON'T MODIFY ANYTHING IN THIS CELL THAT IS BELOW THIS LINE\n",
    "\"\"\"\n",
    "tests.test_con_pool(conv2d_maxpool)"
   ]
  },
  {
   "cell_type": "markdown",
   "metadata": {},
   "source": [
    "### Flatten Layer\n",
    "Implement the `flatten` function to change the dimension of `x_tensor` from a 4-D tensor to a 2-D tensor.  The output should be the shape (*Batch Size*, *Flattened Image Size*). Shortcut option: you can use classes from the [TensorFlow Layers](https://www.tensorflow.org/api_docs/python/tf/layers) or [TensorFlow Layers (contrib)](https://www.tensorflow.org/api_guides/python/contrib.layers) packages for this layer. For more of a challenge, only use other TensorFlow packages."
   ]
  },
  {
   "cell_type": "code",
   "execution_count": 13,
   "metadata": {
    "collapsed": false
   },
   "outputs": [
    {
     "name": "stdout",
     "output_type": "stream",
     "text": [
      "Tests Passed\n"
     ]
    }
   ],
   "source": [
    "def flatten(x_tensor):\n",
    "    \"\"\"\n",
    "    Flatten x_tensor to (Batch Size, Flattened Image Size)\n",
    "    : x_tensor: A tensor of size (Batch Size, ...), where ... are the image dimensions.\n",
    "    : return: A tensor of size (Batch Size, Flattened Image Size).\n",
    "    \"\"\"\n",
    "    # TODO: Implement Function\n",
    "    dim = x_tensor.get_shape().as_list()  \n",
    "    product = 1\n",
    "    for i in dim[1:4]:    \n",
    "        product = i*product\n",
    "        \n",
    "    result = tf.reshape(x_tensor,[-1,product])\n",
    "    return result\n",
    "    \n",
    "    \n",
    "\n",
    "\n",
    "\"\"\"\n",
    "DON'T MODIFY ANYTHING IN THIS CELL THAT IS BELOW THIS LINE\n",
    "\"\"\"\n",
    "tests.test_flatten(flatten)"
   ]
  },
  {
   "cell_type": "markdown",
   "metadata": {},
   "source": [
    "### Fully-Connected Layer\n",
    "Implement the `fully_conn` function to apply a fully connected layer to `x_tensor` with the shape (*Batch Size*, *num_outputs*). Shortcut option: you can use classes from the [TensorFlow Layers](https://www.tensorflow.org/api_docs/python/tf/layers) or [TensorFlow Layers (contrib)](https://www.tensorflow.org/api_guides/python/contrib.layers) packages for this layer. For more of a challenge, only use other TensorFlow packages."
   ]
  },
  {
   "cell_type": "code",
   "execution_count": 14,
   "metadata": {
    "collapsed": false
   },
   "outputs": [
    {
     "name": "stdout",
     "output_type": "stream",
     "text": [
      "Tests Passed\n"
     ]
    }
   ],
   "source": [
    "def fully_conn(x_tensor, num_outputs):\n",
    "    \"\"\"\n",
    "    Apply a fully connected layer to x_tensor using weight and bias\n",
    "    : x_tensor: A 2-D tensor where the first dimension is batch size.\n",
    "    : num_outputs: The number of output that the new tensor should be.\n",
    "    : return: A 2-D tensor where the second dimension is num_outputs.\n",
    "    \"\"\"\n",
    "    # TODO: Implement Function\n",
    "    inputs = x_tensor.get_shape().as_list()[1]\n",
    "    weights = tf.Variable(tf.truncated_normal([inputs, num_outputs], stddev=0.05, mean=0.0))\n",
    "    bias = tf.Variable(tf.zeros(num_outputs))\n",
    "    logits = tf.add(tf.matmul(x_tensor, weights), bias)\n",
    "    return tf.nn.relu(logits)\n",
    "\n",
    "\n",
    "\"\"\"\n",
    "DON'T MODIFY ANYTHING IN THIS CELL THAT IS BELOW THIS LINE\n",
    "\"\"\"\n",
    "tests.test_fully_conn(fully_conn)"
   ]
  },
  {
   "cell_type": "markdown",
   "metadata": {},
   "source": [
    "### Output Layer\n",
    "Implement the `output` function to apply a fully connected layer to `x_tensor` with the shape (*Batch Size*, *num_outputs*). Shortcut option: you can use classes from the [TensorFlow Layers](https://www.tensorflow.org/api_docs/python/tf/layers) or [TensorFlow Layers (contrib)](https://www.tensorflow.org/api_guides/python/contrib.layers) packages for this layer. For more of a challenge, only use other TensorFlow packages.\n",
    "\n",
    "**Note:** Activation, softmax, or cross entropy should **not** be applied to this."
   ]
  },
  {
   "cell_type": "code",
   "execution_count": 15,
   "metadata": {
    "collapsed": false
   },
   "outputs": [
    {
     "name": "stdout",
     "output_type": "stream",
     "text": [
      "Tests Passed\n"
     ]
    }
   ],
   "source": [
    "def output(x_tensor, num_outputs):\n",
    "    \"\"\"\n",
    "    Apply a output layer to x_tensor using weight and bias\n",
    "    : x_tensor: A 2-D tensor where the first dimension is batch size.\n",
    "    : num_outputs: The number of output that the new tensor should be.\n",
    "    : return: A 2-D tensor where the second dimension is num_outputs.\n",
    "    \"\"\"\n",
    "    # TODO: Implement Function    \n",
    "    \n",
    "    inputs = x_tensor.get_shape().as_list()[1]\n",
    "    weights = tf.Variable(tf.truncated_normal([inputs, num_outputs], stddev=0.05, mean=0.0))\n",
    "    bias = tf.Variable(tf.zeros(num_outputs))\n",
    "    logits = tf.add(tf.matmul(x_tensor, weights), bias)   \n",
    "    \n",
    "    return logits\n",
    "\n",
    "\n",
    "\"\"\"\n",
    "DON'T MODIFY ANYTHING IN THIS CELL THAT IS BELOW THIS LINE\n",
    "\"\"\"\n",
    "tests.test_output(output)"
   ]
  },
  {
   "cell_type": "markdown",
   "metadata": {},
   "source": [
    "### Create Convolutional Model\n",
    "Implement the function `conv_net` to create a convolutional neural network model. The function takes in a batch of images, `x`, and outputs logits.  Use the layers you created above to create this model:\n",
    "\n",
    "* Apply 1, 2, or 3 Convolution and Max Pool layers\n",
    "* Apply a Flatten Layer\n",
    "* Apply 1, 2, or 3 Fully Connected Layers\n",
    "* Apply an Output Layer\n",
    "* Return the output\n",
    "* Apply [TensorFlow's Dropout](https://www.tensorflow.org/api_docs/python/tf/nn/dropout) to one or more layers in the model using `keep_prob`. "
   ]
  },
  {
   "cell_type": "code",
   "execution_count": 23,
   "metadata": {
    "collapsed": false
   },
   "outputs": [
    {
     "name": "stdout",
     "output_type": "stream",
     "text": [
      "Neural Network Built!\n"
     ]
    }
   ],
   "source": [
    "def conv_net(x, keep_prob):\n",
    "    \"\"\"\n",
    "    Create a convolutional neural network model\n",
    "    : x: Placeholder tensor that holds image data.\n",
    "    : keep_prob: Placeholder tensor that hold dropout keep probability.\n",
    "    : return: Tensor that represents logits\n",
    "    \"\"\"\n",
    "    # TODO: Apply 1, 2, or 3 Convolution and Max Pool layers\n",
    "    #    Play around with different number of outputs, kernel size and stride\n",
    "    # Function Definition from Above:\n",
    "    #    conv2d_maxpool(x_tensor, conv_num_outputs, conv_ksize, conv_strides, pool_ksize, pool_strides)\n",
    "    \n",
    "#     conv_num_outputs = [32,64]\n",
    "#     conv_ksize = [(3, 3),(3,3)]\n",
    "#     conv_strides = [(1, 1),(1,1)]\n",
    "#     pool_ksize = [(1,1),(2, 2)]\n",
    "#     pool_strides = [(1,1),(2,2)]\n",
    "#     num_outputs = 10\n",
    "#     layer2 = conv2d_maxpool(x, conv_num_outputs[1], conv_ksize[1], conv_strides[1], pool_ksize[1], pool_strides[0])\n",
    "#     layer2 = conv2d_maxpool(layer1,  conv_num_outputs[1], conv_ksize[1], conv_strides[1], pool_ksize[1], pool_strides[1])\n",
    "#     layer1 = conv2d_maxpool(layer1, 64, conv_ksize, conv_strides, pool_ksize, pool_strides)\n",
    "#     layer1 = conv2d_maxpool(layer1, 128, conv_ksize, conv_strides, pool_ksize, pool_strides)\n",
    "#     layer2 = tf.nn.dropout(layer1, keep_prob)\n",
    "    \n",
    "    conv_num_outputs = 64\n",
    "    conv_ksize = (3, 3)\n",
    "    conv_strides = (1, 1)\n",
    "    pool_ksize = (2, 2)\n",
    "    pool_strides = (1, 1)\n",
    "    num_outputs=10\n",
    "       \n",
    "    layer2 = conv2d_maxpool(x, conv_num_outputs, conv_ksize, conv_strides, pool_ksize, pool_strides)\n",
    "    \n",
    "    \n",
    "    # TODO: Apply a Flatten Layer\n",
    "    # Function Definition from Above:\n",
    "    #   flatten(x_tensor)\n",
    "    layer3 =  flatten(layer2)\n",
    "\n",
    "    # TODO: Apply 1, 2, or 3 Fully Connected Layers\n",
    "    #    Play around with different number of outputs\n",
    "    # Function Definition from Above:\n",
    "    #   fully_conn(x_tensor, num_outputs)\n",
    "    layer4 = fully_conn(layer3,512)\n",
    "    layer4 = tf.nn.dropout(layer4, keep_prob)\n",
    "    layer4 = fully_conn(layer4,128)\n",
    "    \n",
    "\n",
    "    \n",
    "    # TODO: Apply an Output Layer\n",
    "    #    Set this to the number of classes\n",
    "    # Function Definition from Above:\n",
    "    #   output(x_tensor, num_outputs)\n",
    "    out = output(layer4,num_outputs)\n",
    "    \n",
    "    # TODO: return output\n",
    "    return out\n",
    "\n",
    "\n",
    "\"\"\"\n",
    "DON'T MODIFY ANYTHING IN THIS CELL THAT IS BELOW THIS LINE\n",
    "\"\"\"\n",
    "\n",
    "##############################\n",
    "## Build the Neural Network ##\n",
    "##############################\n",
    "\n",
    "# Remove previous weights, bias, inputs, etc..\n",
    "tf.reset_default_graph()\n",
    "\n",
    "# Inputs\n",
    "x = neural_net_image_input((32, 32, 3))\n",
    "y = neural_net_label_input(10)\n",
    "keep_prob = neural_net_keep_prob_input()\n",
    "\n",
    "# Model\n",
    "logits = conv_net(x, keep_prob)\n",
    "\n",
    "# Name logits Tensor, so that is can be loaded from disk after training\n",
    "logits = tf.identity(logits, name='logits')\n",
    "\n",
    "# Loss and Optimizer\n",
    "cost = tf.reduce_mean(tf.nn.softmax_cross_entropy_with_logits(logits=logits, labels=y))\n",
    "optimizer = tf.train.AdamOptimizer().minimize(cost)\n",
    "\n",
    "# Accuracy\n",
    "correct_pred = tf.equal(tf.argmax(logits, 1), tf.argmax(y, 1))\n",
    "accuracy = tf.reduce_mean(tf.cast(correct_pred, tf.float32), name='accuracy')\n",
    "\n",
    "tests.test_conv_net(conv_net)"
   ]
  },
  {
   "cell_type": "markdown",
   "metadata": {},
   "source": [
    "## Train the Neural Network\n",
    "### Single Optimization\n",
    "Implement the function `train_neural_network` to do a single optimization.  The optimization should use `optimizer` to optimize in `session` with a `feed_dict` of the following:\n",
    "* `x` for image input\n",
    "* `y` for labels\n",
    "* `keep_prob` for keep probability for dropout\n",
    "\n",
    "This function will be called for each batch, so `tf.global_variables_initializer()` has already been called.\n",
    "\n",
    "Note: Nothing needs to be returned. This function is only optimizing the neural network."
   ]
  },
  {
   "cell_type": "code",
   "execution_count": 24,
   "metadata": {
    "collapsed": false
   },
   "outputs": [
    {
     "name": "stdout",
     "output_type": "stream",
     "text": [
      "Tests Passed\n"
     ]
    }
   ],
   "source": [
    "def train_neural_network(session, optimizer, keep_probability, feature_batch, label_batch):\n",
    "    \"\"\"\n",
    "    Optimize the session on a batch of images and labels\n",
    "    : session: Current TensorFlow session\n",
    "    : optimizer: TensorFlow optimizer function\n",
    "    : keep_probability: keep probability\n",
    "    : feature_batch: Batch of Numpy image data\n",
    "    : label_batch: Batch of Numpy label data\n",
    "    \"\"\"\n",
    "    # TODO: Implement Function\n",
    "    session.run(optimizer, feed_dict={\n",
    "                x: feature_batch,\n",
    "                y: label_batch,\n",
    "                keep_prob: keep_probability})   \n",
    "\n",
    "    \n",
    "    pass\n",
    "    \n",
    "\n",
    "\"\"\"\n",
    "DON'T MODIFY ANYTHING IN THIS CELL THAT IS BELOW THIS LINE\n",
    "\"\"\"\n",
    "tests.test_train_nn(train_neural_network)"
   ]
  },
  {
   "cell_type": "markdown",
   "metadata": {},
   "source": [
    "### Show Stats\n",
    "Implement the function `print_stats` to print loss and validation accuracy.  Use the global variables `valid_features` and `valid_labels` to calculate validation accuracy.  Use a keep probability of `1.0` to calculate the loss and validation accuracy."
   ]
  },
  {
   "cell_type": "code",
   "execution_count": 25,
   "metadata": {
    "collapsed": false
   },
   "outputs": [],
   "source": [
    "def print_stats(session, feature_batch, label_batch, cost, accuracy):\n",
    "    \"\"\"\n",
    "    Print information about loss and validation accuracy\n",
    "    : session: Current TensorFlow session\n",
    "    : feature_batch: Batch of Numpy image data\n",
    "    : label_batch: Batch of Numpy label data\n",
    "    : cost: TensorFlow cost function\n",
    "    : accuracy: TensorFlow accuracy function\n",
    "    \"\"\"\n",
    "    loss = session.run(cost, feed_dict={\n",
    "                x: feature_batch,\n",
    "                y: label_batch,\n",
    "                keep_prob: 1.0})\n",
    "    \n",
    "    \n",
    "    valid_acc = session.run(accuracy, feed_dict={\n",
    "                x: valid_features,\n",
    "                y: valid_labels,\n",
    "                keep_prob: 1.0})\n",
    "    \n",
    "    print('Loss: {:>10.4f} Validation Accuracy: {:.6f}'.format(\n",
    "                loss,\n",
    "                valid_acc))\n",
    "    \n",
    "    pass"
   ]
  },
  {
   "cell_type": "markdown",
   "metadata": {},
   "source": [
    "### Hyperparameters\n",
    "Tune the following parameters:\n",
    "* Set `epochs` to the number of iterations until the network stops learning or start overfitting\n",
    "* Set `batch_size` to the highest number that your machine has memory for.  Most people set them to common sizes of memory:\n",
    " * 64\n",
    " * 128\n",
    " * 256\n",
    " * ...\n",
    "* Set `keep_probability` to the probability of keeping a node using dropout"
   ]
  },
  {
   "cell_type": "code",
   "execution_count": 28,
   "metadata": {
    "collapsed": true
   },
   "outputs": [],
   "source": [
    "# TODO: Tune Parameters\n",
    "epochs = 30\n",
    "batch_size = 128\n",
    "keep_probability = 0.7"
   ]
  },
  {
   "cell_type": "markdown",
   "metadata": {},
   "source": [
    "### Train on a Single CIFAR-10 Batch\n",
    "Instead of training the neural network on all the CIFAR-10 batches of data, let's use a single batch. This should save time while you iterate on the model to get a better accuracy.  Once the final validation accuracy is 50% or greater, run the model on all the data in the next section."
   ]
  },
  {
   "cell_type": "markdown",
   "metadata": {},
   "source": [
    "### Fully Train the Model\n",
    "Now that you got a good accuracy with a single CIFAR-10 batch, try it with all five batches."
   ]
  },
  {
   "cell_type": "code",
   "execution_count": 29,
   "metadata": {
    "collapsed": false,
    "scrolled": true
   },
   "outputs": [
    {
     "name": "stdout",
     "output_type": "stream",
     "text": [
      "Checking the Training on a Single Batch...\n",
      "Epoch  1, CIFAR-10 Batch 1:  Loss:     1.8253 Validation Accuracy: 0.407400\n",
      "Epoch  2, CIFAR-10 Batch 1:  Loss:     1.4027 Validation Accuracy: 0.473200\n",
      "Epoch  3, CIFAR-10 Batch 1:  Loss:     1.0998 Validation Accuracy: 0.511400\n",
      "Epoch  4, CIFAR-10 Batch 1:  Loss:     0.8478 Validation Accuracy: 0.519800\n",
      "Epoch  5, CIFAR-10 Batch 1:  Loss:     0.7009 Validation Accuracy: 0.526600\n",
      "Epoch  6, CIFAR-10 Batch 1:  Loss:     0.5645 Validation Accuracy: 0.541400\n",
      "Epoch  7, CIFAR-10 Batch 1:  Loss:     0.3931 Validation Accuracy: 0.539600\n",
      "Epoch  8, CIFAR-10 Batch 1:  Loss:     0.2684 Validation Accuracy: 0.528600\n",
      "Epoch  9, CIFAR-10 Batch 1:  Loss:     0.1935 Validation Accuracy: 0.550800\n",
      "Epoch 10, CIFAR-10 Batch 1:  Loss:     0.1604 Validation Accuracy: 0.553200\n",
      "Epoch 11, CIFAR-10 Batch 1:  Loss:     0.1134 Validation Accuracy: 0.531200\n",
      "Epoch 12, CIFAR-10 Batch 1:  Loss:     0.0723 Validation Accuracy: 0.536200\n",
      "Epoch 13, CIFAR-10 Batch 1:  Loss:     0.0774 Validation Accuracy: 0.549000\n",
      "Epoch 14, CIFAR-10 Batch 1:  Loss:     0.0682 Validation Accuracy: 0.553400\n",
      "Epoch 15, CIFAR-10 Batch 1:  Loss:     0.0378 Validation Accuracy: 0.566400\n",
      "Epoch 16, CIFAR-10 Batch 1:  Loss:     0.0131 Validation Accuracy: 0.563800\n",
      "Epoch 17, CIFAR-10 Batch 1:  Loss:     0.0069 Validation Accuracy: 0.563800\n",
      "Epoch 18, CIFAR-10 Batch 1:  Loss:     0.0074 Validation Accuracy: 0.556600\n",
      "Epoch 19, CIFAR-10 Batch 1:  Loss:     0.0049 Validation Accuracy: 0.555600\n",
      "Epoch 20, CIFAR-10 Batch 1:  Loss:     0.0031 Validation Accuracy: 0.558400\n",
      "Epoch 21, CIFAR-10 Batch 1:  Loss:     0.0056 Validation Accuracy: 0.558000\n",
      "Epoch 22, CIFAR-10 Batch 1:  Loss:     0.0031 Validation Accuracy: 0.547800\n",
      "Epoch 23, CIFAR-10 Batch 1:  Loss:     0.0031 Validation Accuracy: 0.551800\n",
      "Epoch 24, CIFAR-10 Batch 1:  Loss:     0.0008 Validation Accuracy: 0.557800\n",
      "Epoch 25, CIFAR-10 Batch 1:  Loss:     0.0024 Validation Accuracy: 0.557200\n",
      "Epoch 26, CIFAR-10 Batch 1:  Loss:     0.0010 Validation Accuracy: 0.542600\n",
      "Epoch 27, CIFAR-10 Batch 1:  Loss:     0.0024 Validation Accuracy: 0.547000\n",
      "Epoch 28, CIFAR-10 Batch 1:  Loss:     0.0010 Validation Accuracy: 0.553400\n",
      "Epoch 29, CIFAR-10 Batch 1:  Loss:     0.0005 Validation Accuracy: 0.564800\n",
      "Epoch 30, CIFAR-10 Batch 1:  Loss:     0.0008 Validation Accuracy: 0.548400\n"
     ]
    }
   ],
   "source": [
    "\"\"\"\n",
    "DON'T MODIFY ANYTHING IN THIS CELL\n",
    "\"\"\"\n",
    "print('Checking the Training on a Single Batch...')\n",
    "with tf.Session() as sess:\n",
    "    # Initializing the variables\n",
    "    sess.run(tf.global_variables_initializer())\n",
    "    \n",
    "    # Training cycle\n",
    "    for epoch in range(epochs):\n",
    "        batch_i = 1\n",
    "        for batch_features, batch_labels in helper.load_preprocess_training_batch(batch_i, batch_size):\n",
    "            train_neural_network(sess, optimizer, keep_probability, batch_features, batch_labels)\n",
    "        print('Epoch {:>2}, CIFAR-10 Batch {}:  '.format(epoch + 1, batch_i), end='')\n",
    "        print_stats(sess, batch_features, batch_labels, cost, accuracy)"
   ]
  },
  {
   "cell_type": "code",
   "execution_count": 30,
   "metadata": {
    "collapsed": false
   },
   "outputs": [
    {
     "name": "stdout",
     "output_type": "stream",
     "text": [
      "Training...\n",
      "Epoch  1, CIFAR-10 Batch 1:  Loss:     1.9372 Validation Accuracy: 0.355000\n",
      "Epoch  1, CIFAR-10 Batch 2:  Loss:     1.4357 Validation Accuracy: 0.437200\n",
      "Epoch  1, CIFAR-10 Batch 3:  Loss:     1.2467 Validation Accuracy: 0.483600\n",
      "Epoch  1, CIFAR-10 Batch 4:  Loss:     1.3042 Validation Accuracy: 0.522600\n",
      "Epoch  1, CIFAR-10 Batch 5:  Loss:     1.2746 Validation Accuracy: 0.547600\n",
      "Epoch  2, CIFAR-10 Batch 1:  Loss:     1.2719 Validation Accuracy: 0.544600\n",
      "Epoch  2, CIFAR-10 Batch 2:  Loss:     0.9227 Validation Accuracy: 0.570000\n",
      "Epoch  2, CIFAR-10 Batch 3:  Loss:     0.8724 Validation Accuracy: 0.563600\n",
      "Epoch  2, CIFAR-10 Batch 4:  Loss:     0.9935 Validation Accuracy: 0.581800\n",
      "Epoch  2, CIFAR-10 Batch 5:  Loss:     0.9173 Validation Accuracy: 0.601600\n",
      "Epoch  3, CIFAR-10 Batch 1:  Loss:     0.9759 Validation Accuracy: 0.590600\n",
      "Epoch  3, CIFAR-10 Batch 2:  Loss:     0.6500 Validation Accuracy: 0.597400\n",
      "Epoch  3, CIFAR-10 Batch 3:  Loss:     0.6630 Validation Accuracy: 0.603400\n",
      "Epoch  3, CIFAR-10 Batch 4:  Loss:     0.6476 Validation Accuracy: 0.622200\n",
      "Epoch  3, CIFAR-10 Batch 5:  Loss:     0.6387 Validation Accuracy: 0.631200\n",
      "Epoch  4, CIFAR-10 Batch 1:  Loss:     0.7199 Validation Accuracy: 0.629400\n",
      "Epoch  4, CIFAR-10 Batch 2:  Loss:     0.4792 Validation Accuracy: 0.634400\n",
      "Epoch  4, CIFAR-10 Batch 3:  Loss:     0.4325 Validation Accuracy: 0.632600\n",
      "Epoch  4, CIFAR-10 Batch 4:  Loss:     0.4846 Validation Accuracy: 0.635600\n",
      "Epoch  4, CIFAR-10 Batch 5:  Loss:     0.4951 Validation Accuracy: 0.632400\n",
      "Epoch  5, CIFAR-10 Batch 1:  Loss:     0.5229 Validation Accuracy: 0.618200\n",
      "Epoch  5, CIFAR-10 Batch 2:  Loss:     0.3745 Validation Accuracy: 0.641000\n",
      "Epoch  5, CIFAR-10 Batch 3:  Loss:     0.2865 Validation Accuracy: 0.636800\n",
      "Epoch  5, CIFAR-10 Batch 4:  Loss:     0.3350 Validation Accuracy: 0.653000\n",
      "Epoch  5, CIFAR-10 Batch 5:  Loss:     0.3569 Validation Accuracy: 0.634400\n",
      "Epoch  6, CIFAR-10 Batch 1:  Loss:     0.4363 Validation Accuracy: 0.647400\n",
      "Epoch  6, CIFAR-10 Batch 2:  Loss:     0.3520 Validation Accuracy: 0.622800\n",
      "Epoch  6, CIFAR-10 Batch 3:  Loss:     0.2489 Validation Accuracy: 0.640600\n",
      "Epoch  6, CIFAR-10 Batch 4:  Loss:     0.2962 Validation Accuracy: 0.648400\n",
      "Epoch  6, CIFAR-10 Batch 5:  Loss:     0.2819 Validation Accuracy: 0.640200\n",
      "Epoch  7, CIFAR-10 Batch 1:  Loss:     0.3440 Validation Accuracy: 0.655000\n",
      "Epoch  7, CIFAR-10 Batch 2:  Loss:     0.2354 Validation Accuracy: 0.637400\n",
      "Epoch  7, CIFAR-10 Batch 3:  Loss:     0.1592 Validation Accuracy: 0.649200\n",
      "Epoch  7, CIFAR-10 Batch 4:  Loss:     0.1878 Validation Accuracy: 0.658400\n",
      "Epoch  7, CIFAR-10 Batch 5:  Loss:     0.1880 Validation Accuracy: 0.637400\n",
      "Epoch  8, CIFAR-10 Batch 1:  Loss:     0.2769 Validation Accuracy: 0.654600\n",
      "Epoch  8, CIFAR-10 Batch 2:  Loss:     0.1516 Validation Accuracy: 0.653600\n",
      "Epoch  8, CIFAR-10 Batch 3:  Loss:     0.1211 Validation Accuracy: 0.636000\n",
      "Epoch  8, CIFAR-10 Batch 4:  Loss:     0.1437 Validation Accuracy: 0.651200\n",
      "Epoch  8, CIFAR-10 Batch 5:  Loss:     0.1262 Validation Accuracy: 0.644400\n",
      "Epoch  9, CIFAR-10 Batch 1:  Loss:     0.1867 Validation Accuracy: 0.656400\n",
      "Epoch  9, CIFAR-10 Batch 2:  Loss:     0.1684 Validation Accuracy: 0.642400\n",
      "Epoch  9, CIFAR-10 Batch 3:  Loss:     0.1206 Validation Accuracy: 0.630400\n",
      "Epoch  9, CIFAR-10 Batch 4:  Loss:     0.1024 Validation Accuracy: 0.650000\n",
      "Epoch  9, CIFAR-10 Batch 5:  Loss:     0.1118 Validation Accuracy: 0.649600\n",
      "Epoch 10, CIFAR-10 Batch 1:  Loss:     0.1753 Validation Accuracy: 0.645200\n",
      "Epoch 10, CIFAR-10 Batch 2:  Loss:     0.0877 Validation Accuracy: 0.639000\n",
      "Epoch 10, CIFAR-10 Batch 3:  Loss:     0.0872 Validation Accuracy: 0.633200\n",
      "Epoch 10, CIFAR-10 Batch 4:  Loss:     0.0749 Validation Accuracy: 0.643400\n",
      "Epoch 10, CIFAR-10 Batch 5:  Loss:     0.0885 Validation Accuracy: 0.636800\n",
      "Epoch 11, CIFAR-10 Batch 1:  Loss:     0.1330 Validation Accuracy: 0.662600\n",
      "Epoch 11, CIFAR-10 Batch 2:  Loss:     0.1008 Validation Accuracy: 0.641800\n",
      "Epoch 11, CIFAR-10 Batch 3:  Loss:     0.0631 Validation Accuracy: 0.637600\n",
      "Epoch 11, CIFAR-10 Batch 4:  Loss:     0.0388 Validation Accuracy: 0.638000\n",
      "Epoch 11, CIFAR-10 Batch 5:  Loss:     0.0515 Validation Accuracy: 0.659600\n",
      "Epoch 12, CIFAR-10 Batch 1:  Loss:     0.1338 Validation Accuracy: 0.655800\n",
      "Epoch 12, CIFAR-10 Batch 2:  Loss:     0.0563 Validation Accuracy: 0.638800\n",
      "Epoch 12, CIFAR-10 Batch 3:  Loss:     0.0519 Validation Accuracy: 0.651400\n",
      "Epoch 12, CIFAR-10 Batch 4:  Loss:     0.0339 Validation Accuracy: 0.641800\n",
      "Epoch 12, CIFAR-10 Batch 5:  Loss:     0.0510 Validation Accuracy: 0.654000\n",
      "Epoch 13, CIFAR-10 Batch 1:  Loss:     0.0957 Validation Accuracy: 0.657000\n",
      "Epoch 13, CIFAR-10 Batch 2:  Loss:     0.0255 Validation Accuracy: 0.640800\n",
      "Epoch 13, CIFAR-10 Batch 3:  Loss:     0.0190 Validation Accuracy: 0.654800\n",
      "Epoch 13, CIFAR-10 Batch 4:  Loss:     0.0225 Validation Accuracy: 0.649600\n",
      "Epoch 13, CIFAR-10 Batch 5:  Loss:     0.0425 Validation Accuracy: 0.659800\n",
      "Epoch 14, CIFAR-10 Batch 1:  Loss:     0.0731 Validation Accuracy: 0.659200\n",
      "Epoch 14, CIFAR-10 Batch 2:  Loss:     0.0229 Validation Accuracy: 0.646200\n",
      "Epoch 14, CIFAR-10 Batch 3:  Loss:     0.0283 Validation Accuracy: 0.645200\n",
      "Epoch 14, CIFAR-10 Batch 4:  Loss:     0.0148 Validation Accuracy: 0.656200\n",
      "Epoch 14, CIFAR-10 Batch 5:  Loss:     0.0443 Validation Accuracy: 0.664400\n",
      "Epoch 15, CIFAR-10 Batch 1:  Loss:     0.0426 Validation Accuracy: 0.650800\n",
      "Epoch 15, CIFAR-10 Batch 2:  Loss:     0.0168 Validation Accuracy: 0.652000\n",
      "Epoch 15, CIFAR-10 Batch 3:  Loss:     0.0240 Validation Accuracy: 0.639400\n",
      "Epoch 15, CIFAR-10 Batch 4:  Loss:     0.0119 Validation Accuracy: 0.643800\n",
      "Epoch 15, CIFAR-10 Batch 5:  Loss:     0.0298 Validation Accuracy: 0.666200\n",
      "Epoch 16, CIFAR-10 Batch 1:  Loss:     0.0306 Validation Accuracy: 0.658200\n",
      "Epoch 16, CIFAR-10 Batch 2:  Loss:     0.0351 Validation Accuracy: 0.650000\n",
      "Epoch 16, CIFAR-10 Batch 3:  Loss:     0.0281 Validation Accuracy: 0.636400\n",
      "Epoch 16, CIFAR-10 Batch 4:  Loss:     0.0234 Validation Accuracy: 0.643000\n",
      "Epoch 16, CIFAR-10 Batch 5:  Loss:     0.0343 Validation Accuracy: 0.657800\n",
      "Epoch 17, CIFAR-10 Batch 1:  Loss:     0.0304 Validation Accuracy: 0.652600\n",
      "Epoch 17, CIFAR-10 Batch 2:  Loss:     0.0127 Validation Accuracy: 0.638000\n",
      "Epoch 17, CIFAR-10 Batch 3:  Loss:     0.0222 Validation Accuracy: 0.648600\n",
      "Epoch 17, CIFAR-10 Batch 4:  Loss:     0.0101 Validation Accuracy: 0.642400\n",
      "Epoch 17, CIFAR-10 Batch 5:  Loss:     0.0213 Validation Accuracy: 0.659800\n",
      "Epoch 18, CIFAR-10 Batch 1:  Loss:     0.0295 Validation Accuracy: 0.647400\n",
      "Epoch 18, CIFAR-10 Batch 2:  Loss:     0.0098 Validation Accuracy: 0.644400\n",
      "Epoch 18, CIFAR-10 Batch 3:  Loss:     0.0094 Validation Accuracy: 0.657600\n",
      "Epoch 18, CIFAR-10 Batch 4:  Loss:     0.0087 Validation Accuracy: 0.639600\n",
      "Epoch 18, CIFAR-10 Batch 5:  Loss:     0.0121 Validation Accuracy: 0.642800\n",
      "Epoch 19, CIFAR-10 Batch 1:  Loss:     0.0143 Validation Accuracy: 0.651800\n",
      "Epoch 19, CIFAR-10 Batch 2:  Loss:     0.0075 Validation Accuracy: 0.645000\n",
      "Epoch 19, CIFAR-10 Batch 3:  Loss:     0.0051 Validation Accuracy: 0.659000\n",
      "Epoch 19, CIFAR-10 Batch 4:  Loss:     0.0057 Validation Accuracy: 0.644400\n",
      "Epoch 19, CIFAR-10 Batch 5:  Loss:     0.0415 Validation Accuracy: 0.654600\n",
      "Epoch 20, CIFAR-10 Batch 1:  Loss:     0.0195 Validation Accuracy: 0.639600\n",
      "Epoch 20, CIFAR-10 Batch 2:  Loss:     0.0040 Validation Accuracy: 0.648400\n",
      "Epoch 20, CIFAR-10 Batch 3:  Loss:     0.0077 Validation Accuracy: 0.645400\n",
      "Epoch 20, CIFAR-10 Batch 4:  Loss:     0.0296 Validation Accuracy: 0.643000\n",
      "Epoch 20, CIFAR-10 Batch 5:  Loss:     0.0127 Validation Accuracy: 0.647000\n",
      "Epoch 21, CIFAR-10 Batch 1:  Loss:     0.0054 Validation Accuracy: 0.642400\n",
      "Epoch 21, CIFAR-10 Batch 2:  Loss:     0.0040 Validation Accuracy: 0.639400\n",
      "Epoch 21, CIFAR-10 Batch 3:  Loss:     0.0056 Validation Accuracy: 0.645400\n",
      "Epoch 21, CIFAR-10 Batch 4:  Loss:     0.0069 Validation Accuracy: 0.647800\n",
      "Epoch 21, CIFAR-10 Batch 5:  Loss:     0.0116 Validation Accuracy: 0.643200\n",
      "Epoch 22, CIFAR-10 Batch 1:  Loss:     0.0097 Validation Accuracy: 0.636400\n",
      "Epoch 22, CIFAR-10 Batch 2:  Loss:     0.0044 Validation Accuracy: 0.645400\n",
      "Epoch 22, CIFAR-10 Batch 3:  Loss:     0.0065 Validation Accuracy: 0.648600\n",
      "Epoch 22, CIFAR-10 Batch 4:  Loss:     0.0023 Validation Accuracy: 0.641400\n",
      "Epoch 22, CIFAR-10 Batch 5:  Loss:     0.0093 Validation Accuracy: 0.644600\n",
      "Epoch 23, CIFAR-10 Batch 1:  Loss:     0.0030 Validation Accuracy: 0.652400\n",
      "Epoch 23, CIFAR-10 Batch 2:  Loss:     0.0038 Validation Accuracy: 0.633600\n",
      "Epoch 23, CIFAR-10 Batch 3:  Loss:     0.0085 Validation Accuracy: 0.649200\n",
      "Epoch 23, CIFAR-10 Batch 4:  Loss:     0.0034 Validation Accuracy: 0.649000\n",
      "Epoch 23, CIFAR-10 Batch 5:  Loss:     0.0098 Validation Accuracy: 0.650000\n",
      "Epoch 24, CIFAR-10 Batch 1:  Loss:     0.0048 Validation Accuracy: 0.637600\n",
      "Epoch 24, CIFAR-10 Batch 2:  Loss:     0.0039 Validation Accuracy: 0.628800\n",
      "Epoch 24, CIFAR-10 Batch 3:  Loss:     0.0111 Validation Accuracy: 0.648800\n",
      "Epoch 24, CIFAR-10 Batch 4:  Loss:     0.0045 Validation Accuracy: 0.649400\n",
      "Epoch 24, CIFAR-10 Batch 5:  Loss:     0.0061 Validation Accuracy: 0.647400\n",
      "Epoch 25, CIFAR-10 Batch 1:  Loss:     0.0054 Validation Accuracy: 0.628400\n",
      "Epoch 25, CIFAR-10 Batch 2:  Loss:     0.0036 Validation Accuracy: 0.642800\n",
      "Epoch 25, CIFAR-10 Batch 3:  Loss:     0.0045 Validation Accuracy: 0.646800\n",
      "Epoch 25, CIFAR-10 Batch 4:  Loss:     0.0055 Validation Accuracy: 0.653800\n",
      "Epoch 25, CIFAR-10 Batch 5:  Loss:     0.0042 Validation Accuracy: 0.659400\n",
      "Epoch 26, CIFAR-10 Batch 1:  Loss:     0.0058 Validation Accuracy: 0.633200\n",
      "Epoch 26, CIFAR-10 Batch 2:  Loss:     0.0016 Validation Accuracy: 0.654600\n",
      "Epoch 26, CIFAR-10 Batch 3:  Loss:     0.0023 Validation Accuracy: 0.648600\n",
      "Epoch 26, CIFAR-10 Batch 4:  Loss:     0.0060 Validation Accuracy: 0.648200\n",
      "Epoch 26, CIFAR-10 Batch 5:  Loss:     0.0094 Validation Accuracy: 0.645600\n",
      "Epoch 27, CIFAR-10 Batch 1:  Loss:     0.0043 Validation Accuracy: 0.637000\n",
      "Epoch 27, CIFAR-10 Batch 2:  Loss:     0.0028 Validation Accuracy: 0.639600\n",
      "Epoch 27, CIFAR-10 Batch 3:  Loss:     0.0084 Validation Accuracy: 0.653000\n",
      "Epoch 27, CIFAR-10 Batch 4:  Loss:     0.0087 Validation Accuracy: 0.642600\n",
      "Epoch 27, CIFAR-10 Batch 5:  Loss:     0.0082 Validation Accuracy: 0.644400\n",
      "Epoch 28, CIFAR-10 Batch 1:  Loss:     0.0038 Validation Accuracy: 0.640400\n",
      "Epoch 28, CIFAR-10 Batch 2:  Loss:     0.0026 Validation Accuracy: 0.647000\n",
      "Epoch 28, CIFAR-10 Batch 3:  Loss:     0.0020 Validation Accuracy: 0.646400\n",
      "Epoch 28, CIFAR-10 Batch 4:  Loss:     0.0045 Validation Accuracy: 0.641600\n",
      "Epoch 28, CIFAR-10 Batch 5:  Loss:     0.0167 Validation Accuracy: 0.652400\n",
      "Epoch 29, CIFAR-10 Batch 1:  Loss:     0.0026 Validation Accuracy: 0.640200\n",
      "Epoch 29, CIFAR-10 Batch 2:  Loss:     0.0086 Validation Accuracy: 0.628200\n",
      "Epoch 29, CIFAR-10 Batch 3:  Loss:     0.0027 Validation Accuracy: 0.644800\n",
      "Epoch 29, CIFAR-10 Batch 4:  Loss:     0.0048 Validation Accuracy: 0.645200\n",
      "Epoch 29, CIFAR-10 Batch 5:  Loss:     0.0064 Validation Accuracy: 0.635600\n",
      "Epoch 30, CIFAR-10 Batch 1:  Loss:     0.0038 Validation Accuracy: 0.636600\n",
      "Epoch 30, CIFAR-10 Batch 2:  Loss:     0.0023 Validation Accuracy: 0.650200\n",
      "Epoch 30, CIFAR-10 Batch 3:  Loss:     0.0011 Validation Accuracy: 0.644800\n",
      "Epoch 30, CIFAR-10 Batch 4:  Loss:     0.0023 Validation Accuracy: 0.650800\n",
      "Epoch 30, CIFAR-10 Batch 5:  Loss:     0.0134 Validation Accuracy: 0.647800\n"
     ]
    }
   ],
   "source": [
    "\"\"\"\n",
    "DON'T MODIFY ANYTHING IN THIS CELL\n",
    "\"\"\"\n",
    "save_model_path = './image_classification'\n",
    "\n",
    "print('Training...')\n",
    "with tf.Session() as sess:\n",
    "    # Initializing the variables\n",
    "    sess.run(tf.global_variables_initializer())\n",
    "    \n",
    "    # Training cycle\n",
    "    for epoch in range(epochs):\n",
    "        # Loop over all batches\n",
    "        n_batches = 5\n",
    "        for batch_i in range(1, n_batches + 1):\n",
    "            for batch_features, batch_labels in helper.load_preprocess_training_batch(batch_i, batch_size):\n",
    "                train_neural_network(sess, optimizer, keep_probability, batch_features, batch_labels)\n",
    "            print('Epoch {:>2}, CIFAR-10 Batch {}:  '.format(epoch + 1, batch_i), end='')\n",
    "            print_stats(sess, batch_features, batch_labels, cost, accuracy)\n",
    "            \n",
    "    # Save Model\n",
    "    saver = tf.train.Saver()\n",
    "    save_path = saver.save(sess, save_model_path)"
   ]
  },
  {
   "cell_type": "markdown",
   "metadata": {},
   "source": [
    "# Checkpoint\n",
    "The model has been saved to disk.\n",
    "## Test Model\n",
    "Test your model against the test dataset.  This will be your final accuracy. You should have an accuracy greater than 50%. If you don't, keep tweaking the model architecture and parameters."
   ]
  },
  {
   "cell_type": "code",
   "execution_count": 31,
   "metadata": {
    "collapsed": false
   },
   "outputs": [
    {
     "name": "stdout",
     "output_type": "stream",
     "text": [
      "Testing Accuracy: 0.6433939873417721\n",
      "\n"
     ]
    },
    {
     "data": {
      "image/png": "[encoded data removed]",
      "text/plain": [
       "<matplotlib.figure.Figure at 0x7fd69e8b8198>"
      ]
     },
     "metadata": {
      "image/png": {
       "height": 319,
       "width": 355
      }
     },
     "output_type": "display_data"
    }
   ],
   "source": [
    "\"\"\"\n",
    "DON'T MODIFY ANYTHING IN THIS CELL\n",
    "\"\"\"\n",
    "%matplotlib inline\n",
    "%config InlineBackend.figure_format = 'retina'\n",
    "\n",
    "import tensorflow as tf\n",
    "import pickle\n",
    "import helper\n",
    "import random\n",
    "\n",
    "# Set batch size if not already set\n",
    "try:\n",
    "    if batch_size:\n",
    "        pass\n",
    "except NameError:\n",
    "    batch_size = 64\n",
    "\n",
    "save_model_path = './image_classification'\n",
    "n_samples = 4\n",
    "top_n_predictions = 3\n",
    "\n",
    "def test_model():\n",
    "    \"\"\"\n",
    "    Test the saved model against the test dataset\n",
    "    \"\"\"\n",
    "\n",
    "    test_features, test_labels = pickle.load(open('preprocess_training.p', mode='rb'))\n",
    "    loaded_graph = tf.Graph()\n",
    "\n",
    "    with tf.Session(graph=loaded_graph) as sess:\n",
    "        # Load model\n",
    "        loader = tf.train.import_meta_graph(save_model_path + '.meta')\n",
    "        loader.restore(sess, save_model_path)\n",
    "\n",
    "        # Get Tensors from loaded model\n",
    "        loaded_x = loaded_graph.get_tensor_by_name('x:0')\n",
    "        loaded_y = loaded_graph.get_tensor_by_name('y:0')\n",
    "        loaded_keep_prob = loaded_graph.get_tensor_by_name('keep_prob:0')\n",
    "        loaded_logits = loaded_graph.get_tensor_by_name('logits:0')\n",
    "        loaded_acc = loaded_graph.get_tensor_by_name('accuracy:0')\n",
    "        \n",
    "        # Get accuracy in batches for memory limitations\n",
    "        test_batch_acc_total = 0\n",
    "        test_batch_count = 0\n",
    "        \n",
    "        for train_feature_batch, train_label_batch in helper.batch_features_labels(test_features, test_labels, batch_size):\n",
    "            test_batch_acc_total += sess.run(\n",
    "                loaded_acc,\n",
    "                feed_dict={loaded_x: train_feature_batch, loaded_y: train_label_batch, loaded_keep_prob: 1.0})\n",
    "            test_batch_count += 1\n",
    "\n",
    "        print('Testing Accuracy: {}\\n'.format(test_batch_acc_total/test_batch_count))\n",
    "\n",
    "        # Print Random Samples\n",
    "        random_test_features, random_test_labels = tuple(zip(*random.sample(list(zip(test_features, test_labels)), n_samples)))\n",
    "        random_test_predictions = sess.run(\n",
    "            tf.nn.top_k(tf.nn.softmax(loaded_logits), top_n_predictions),\n",
    "            feed_dict={loaded_x: random_test_features, loaded_y: random_test_labels, loaded_keep_prob: 1.0})\n",
    "        helper.display_image_predictions(random_test_features, random_test_labels, random_test_predictions)\n",
    "\n",
    "\n",
    "test_model()"
   ]
  },
  {
   "cell_type": "markdown",
   "metadata": {},
   "source": [
    "## Why 50-70% Accuracy?\n",
    "You might be wondering why you can't get an accuracy any higher. First things first, 50% isn't bad for a simple CNN.  Pure guessing would get you 10% accuracy. However, you might notice people are getting scores [well above 70%](http://rodrigob.github.io/are_we_there_yet/build/classification_datasets_results.html#43494641522d3130).  That's because we haven't taught you all there is to know about neural networks. We still need to cover a few more techniques.\n",
    "## Submitting This Project\n",
    "When submitting this project, make sure to run all the cells before saving the notebook.  Save the notebook file as \"dlnd_image_classification.ipynb\" and save it as a HTML file under \"File\" -> \"Download as\".  Include the \"helper.py\" and \"problem_unittests.py\" files in your submission."
   ]
  },
  {
   "cell_type": "code",
   "execution_count": null,
   "metadata": {
    "collapsed": true
   },
   "outputs": [],
   "source": []
  }
 ],
 "metadata": {
  "kernelspec": {
   "display_name": "Python 3",
   "language": "python",
   "name": "python3"
  },
  "language_info": {
   "codemirror_mode": {
    "name": "ipython",
    "version": 3
   },
   "file_extension": ".py",
   "mimetype": "text/x-python",
   "name": "python",
   "nbconvert_exporter": "python",
   "pygments_lexer": "ipython3",
   "version": "3.5.3"
  },
  "widgets": {
   "state": {},
   "version": "1.1.2"
  }
 },
 "nbformat": 4,
 "nbformat_minor": 0
}
